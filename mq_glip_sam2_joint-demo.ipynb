{
 "cells": [
  {
   "cell_type": "code",
   "execution_count": 1,
   "id": "ed1b2ee0-8c8b-43ed-97e6-c47062002873",
   "metadata": {},
   "outputs": [],
   "source": [
    "%load_ext autoreload\n",
    "%autoreload 2"
   ]
  },
  {
   "cell_type": "code",
   "execution_count": 2,
   "id": "432abd64-4ef5-4463-9c81-bdf695743949",
   "metadata": {
    "collapsed": true,
    "jupyter": {
     "outputs_hidden": true
    }
   },
   "outputs": [
    {
     "name": "stderr",
     "output_type": "stream",
     "text": [
      "/home/jielei/miniconda/envs/ov_det/lib/python3.10/site-packages/tqdm/auto.py:21: TqdmWarning: IProgress not found. Please update jupyter and ipywidgets. See https://ipywidgets.readthedocs.io/en/stable/user_install.html\n",
      "  from .autonotebook import tqdm as notebook_tqdm\n",
      "/opt/hpcaas/.mounts/fs-0df31b178aa4037ac/home/jielei/MQ-Det/maskrcnn_benchmark/layers/deform_conv.py:313: FutureWarning: `torch.cuda.amp.custom_fwd(args...)` is deprecated. Please use `torch.amp.custom_fwd(args..., device_type='cuda')` instead.\n",
      "  @custom_fwd(cast_inputs=torch.float32)\n",
      "/opt/hpcaas/.mounts/fs-0df31b178aa4037ac/home/jielei/MQ-Det/maskrcnn_benchmark/layers/deform_conv.py:378: FutureWarning: `torch.cuda.amp.custom_fwd(args...)` is deprecated. Please use `torch.amp.custom_fwd(args..., device_type='cuda')` instead.\n",
      "  @custom_fwd(cast_inputs=torch.float32)\n",
      "/opt/hpcaas/.mounts/fs-0df31b178aa4037ac/home/jielei/MQ-Det/maskrcnn_benchmark/layers/deform_conv.py:428: FutureWarning: `torch.cuda.amp.custom_fwd(args...)` is deprecated. Please use `torch.amp.custom_fwd(args..., device_type='cuda')` instead.\n",
      "  @custom_fwd(cast_inputs=torch.float32)\n",
      "/opt/hpcaas/.mounts/fs-0df31b178aa4037ac/home/jielei/MQ-Det/maskrcnn_benchmark/layers/set_loss.py:144: FutureWarning: `torch.cuda.amp.custom_fwd(args...)` is deprecated. Please use `torch.amp.custom_fwd(args..., device_type='cuda')` instead.\n",
      "  @custom_fwd(cast_inputs=torch.float32)\n",
      "/opt/hpcaas/.mounts/fs-0df31b178aa4037ac/home/jielei/MQ-Det/maskrcnn_benchmark/layers/set_loss.py:326: FutureWarning: `torch.cuda.amp.custom_fwd(args...)` is deprecated. Please use `torch.amp.custom_fwd(args..., device_type='cuda')` instead.\n",
      "  @custom_fwd(cast_inputs=torch.float32)\n",
      "/opt/hpcaas/.mounts/fs-0df31b178aa4037ac/home/jielei/MQ-Det/maskrcnn_benchmark/modeling/rpn/loss.py:96: FutureWarning: `torch.cuda.amp.custom_fwd(args...)` is deprecated. Please use `torch.amp.custom_fwd(args..., device_type='cuda')` instead.\n",
      "  @custom_fwd(cast_inputs=torch.float32)\n",
      "/opt/hpcaas/.mounts/fs-0df31b178aa4037ac/home/jielei/MQ-Det/maskrcnn_benchmark/modeling/rpn/loss.py:231: FutureWarning: `torch.cuda.amp.custom_fwd(args...)` is deprecated. Please use `torch.amp.custom_fwd(args..., device_type='cuda')` instead.\n",
      "  @custom_fwd(cast_inputs=torch.float32)\n",
      "/opt/hpcaas/.mounts/fs-0df31b178aa4037ac/home/jielei/MQ-Det/maskrcnn_benchmark/modeling/rpn/loss.py:452: FutureWarning: `torch.cuda.amp.custom_fwd(args...)` is deprecated. Please use `torch.amp.custom_fwd(args..., device_type='cuda')` instead.\n",
      "  @custom_fwd(cast_inputs=torch.float32)\n",
      "/opt/hpcaas/.mounts/fs-0df31b178aa4037ac/home/jielei/MQ-Det/maskrcnn_benchmark/modeling/rpn/loss.py:849: FutureWarning: `torch.cuda.amp.custom_fwd(args...)` is deprecated. Please use `torch.amp.custom_fwd(args..., device_type='cuda')` instead.\n",
      "  @custom_fwd(cast_inputs=torch.float32)\n",
      "/opt/hpcaas/.mounts/fs-0df31b178aa4037ac/home/jielei/MQ-Det/maskrcnn_benchmark/modeling/roi_heads/box_head/inference.py:37: FutureWarning: `torch.cuda.amp.custom_fwd(args...)` is deprecated. Please use `torch.amp.custom_fwd(args..., device_type='cuda')` instead.\n",
      "  @custom_fwd(cast_inputs=torch.float32)\n",
      "/opt/hpcaas/.mounts/fs-0df31b178aa4037ac/home/jielei/MQ-Det/maskrcnn_benchmark/modeling/roi_heads/box_head/loss.py:122: FutureWarning: `torch.cuda.amp.custom_fwd(args...)` is deprecated. Please use `torch.amp.custom_fwd(args..., device_type='cuda')` instead.\n",
      "  @custom_fwd(cast_inputs=torch.float32)\n",
      "/opt/hpcaas/.mounts/fs-0df31b178aa4037ac/home/jielei/MQ-Det/maskrcnn_benchmark/modeling/roi_heads/box_head/box_head.py:24: FutureWarning: `torch.cuda.amp.custom_fwd(args...)` is deprecated. Please use `torch.amp.custom_fwd(args..., device_type='cuda')` instead.\n",
      "  @custom_fwd(cast_inputs=torch.float32)\n",
      "[nltk_data] Downloading package punkt to /home/jielei/nltk_data...\n",
      "[nltk_data]   Package punkt is already up-to-date!\n",
      "[nltk_data] Downloading package averaged_perceptron_tagger to\n",
      "[nltk_data]     /home/jielei/nltk_data...\n",
      "[nltk_data]   Package averaged_perceptron_tagger is already up-to-\n",
      "[nltk_data]       date!\n"
     ]
    }
   ],
   "source": [
    "from mq_glip_sam2_joint_model import MQGLIPSam2JointModel"
   ]
  },
  {
   "cell_type": "code",
   "execution_count": 3,
   "id": "ec376210-1d73-45a9-be91-9184fc8d2e86",
   "metadata": {
    "collapsed": true,
    "jupyter": {
     "outputs_hidden": true
    }
   },
   "outputs": [
    {
     "name": "stdout",
     "output_type": "stream",
     "text": [
      "VISION BACKBONE USE GRADIENT CHECKPOINTING:  False\n"
     ]
    },
    {
     "name": "stderr",
     "output_type": "stream",
     "text": [
      "/home/jielei/miniconda/envs/ov_det/lib/python3.10/site-packages/torch/functional.py:554: UserWarning: torch.meshgrid: in an upcoming release, it will be required to pass the indexing argument. (Triggered internally at /pytorch/aten/src/ATen/native/TensorShape.cpp:4314.)\n",
      "  return _VF.meshgrid(tensors, **kwargs)  # type: ignore[attr-defined]\n"
     ]
    },
    {
     "name": "stdout",
     "output_type": "stream",
     "text": [
      "LANGUAGE BACKBONE USE GRADIENT CHECKPOINTING:  False\n"
     ]
    },
    {
     "name": "stderr",
     "output_type": "stream",
     "text": [
      "Some weights of QVBertModel were not initialized from the model checkpoint at bert-base-uncased and are newly initialized: ['encoder.qv_layer.0.attn.norm.bias', 'encoder.qv_layer.0.attn.norm.weight', 'encoder.qv_layer.0.attn.norm_kv.bias', 'encoder.qv_layer.0.attn.norm_kv.weight', 'encoder.qv_layer.0.attn.to_kv.weight', 'encoder.qv_layer.0.attn.to_out.weight', 'encoder.qv_layer.0.attn.to_q.weight', 'encoder.qv_layer.0.attn_gate.linear1.weight', 'encoder.qv_layer.0.attn_gate.linear2.weight', 'encoder.qv_layer.0.attn_gate.norm.bias', 'encoder.qv_layer.0.attn_gate.norm.weight', 'encoder.qv_layer.0.ff.linear1.weight', 'encoder.qv_layer.0.ff.linear2.weight', 'encoder.qv_layer.0.ff.norm.bias', 'encoder.qv_layer.0.ff.norm.weight', 'encoder.qv_layer.0.ff_gate', 'encoder.qv_layer.1.attn.norm.bias', 'encoder.qv_layer.1.attn.norm.weight', 'encoder.qv_layer.1.attn.norm_kv.bias', 'encoder.qv_layer.1.attn.norm_kv.weight', 'encoder.qv_layer.1.attn.to_kv.weight', 'encoder.qv_layer.1.attn.to_out.weight', 'encoder.qv_layer.1.attn.to_q.weight', 'encoder.qv_layer.1.attn_gate.linear1.weight', 'encoder.qv_layer.1.attn_gate.linear2.weight', 'encoder.qv_layer.1.attn_gate.norm.bias', 'encoder.qv_layer.1.attn_gate.norm.weight', 'encoder.qv_layer.1.ff.linear1.weight', 'encoder.qv_layer.1.ff.linear2.weight', 'encoder.qv_layer.1.ff.norm.bias', 'encoder.qv_layer.1.ff.norm.weight', 'encoder.qv_layer.1.ff_gate', 'encoder.qv_layer.2.attn.norm.bias', 'encoder.qv_layer.2.attn.norm.weight', 'encoder.qv_layer.2.attn.norm_kv.bias', 'encoder.qv_layer.2.attn.norm_kv.weight', 'encoder.qv_layer.2.attn.to_kv.weight', 'encoder.qv_layer.2.attn.to_out.weight', 'encoder.qv_layer.2.attn.to_q.weight', 'encoder.qv_layer.2.attn_gate.linear1.weight', 'encoder.qv_layer.2.attn_gate.linear2.weight', 'encoder.qv_layer.2.attn_gate.norm.bias', 'encoder.qv_layer.2.attn_gate.norm.weight', 'encoder.qv_layer.2.ff.linear1.weight', 'encoder.qv_layer.2.ff.linear2.weight', 'encoder.qv_layer.2.ff.norm.bias', 'encoder.qv_layer.2.ff.norm.weight', 'encoder.qv_layer.2.ff_gate', 'encoder.qv_layer.3.attn.norm.bias', 'encoder.qv_layer.3.attn.norm.weight', 'encoder.qv_layer.3.attn.norm_kv.bias', 'encoder.qv_layer.3.attn.norm_kv.weight', 'encoder.qv_layer.3.attn.to_kv.weight', 'encoder.qv_layer.3.attn.to_out.weight', 'encoder.qv_layer.3.attn.to_q.weight', 'encoder.qv_layer.3.attn_gate.linear1.weight', 'encoder.qv_layer.3.attn_gate.linear2.weight', 'encoder.qv_layer.3.attn_gate.norm.bias', 'encoder.qv_layer.3.attn_gate.norm.weight', 'encoder.qv_layer.3.ff.linear1.weight', 'encoder.qv_layer.3.ff.linear2.weight', 'encoder.qv_layer.3.ff.norm.bias', 'encoder.qv_layer.3.ff.norm.weight', 'encoder.qv_layer.3.ff_gate', 'encoder.qv_layer.4.attn.norm.bias', 'encoder.qv_layer.4.attn.norm.weight', 'encoder.qv_layer.4.attn.norm_kv.bias', 'encoder.qv_layer.4.attn.norm_kv.weight', 'encoder.qv_layer.4.attn.to_kv.weight', 'encoder.qv_layer.4.attn.to_out.weight', 'encoder.qv_layer.4.attn.to_q.weight', 'encoder.qv_layer.4.attn_gate.linear1.weight', 'encoder.qv_layer.4.attn_gate.linear2.weight', 'encoder.qv_layer.4.attn_gate.norm.bias', 'encoder.qv_layer.4.attn_gate.norm.weight', 'encoder.qv_layer.4.ff.linear1.weight', 'encoder.qv_layer.4.ff.linear2.weight', 'encoder.qv_layer.4.ff.norm.bias', 'encoder.qv_layer.4.ff.norm.weight', 'encoder.qv_layer.4.ff_gate', 'encoder.qv_layer.5.attn.norm.bias', 'encoder.qv_layer.5.attn.norm.weight', 'encoder.qv_layer.5.attn.norm_kv.bias', 'encoder.qv_layer.5.attn.norm_kv.weight', 'encoder.qv_layer.5.attn.to_kv.weight', 'encoder.qv_layer.5.attn.to_out.weight', 'encoder.qv_layer.5.attn.to_q.weight', 'encoder.qv_layer.5.attn_gate.linear1.weight', 'encoder.qv_layer.5.attn_gate.linear2.weight', 'encoder.qv_layer.5.attn_gate.norm.bias', 'encoder.qv_layer.5.attn_gate.norm.weight', 'encoder.qv_layer.5.ff.linear1.weight', 'encoder.qv_layer.5.ff.linear2.weight', 'encoder.qv_layer.5.ff.norm.bias', 'encoder.qv_layer.5.ff.norm.weight', 'encoder.qv_layer.5.ff_gate', 'pre_select.layers.0.ff.linear1.weight', 'pre_select.layers.0.ff.linear2.weight', 'pre_select.layers.0.ff.norm.bias', 'pre_select.layers.0.ff.norm.weight', 'pre_select.layers.0.image_condition.norm.bias', 'pre_select.layers.0.image_condition.norm.weight', 'pre_select.layers.0.image_condition.norm_kv.bias', 'pre_select.layers.0.image_condition.norm_kv.weight', 'pre_select.layers.0.image_condition.to_kv.weight', 'pre_select.layers.0.image_condition.to_out.weight', 'pre_select.layers.0.image_condition.to_q.weight', 'pre_select.layers.1.ff.linear1.weight', 'pre_select.layers.1.ff.linear2.weight', 'pre_select.layers.1.ff.norm.bias', 'pre_select.layers.1.ff.norm.weight', 'pre_select.layers.1.image_condition.norm.bias', 'pre_select.layers.1.image_condition.norm.weight', 'pre_select.layers.1.image_condition.norm_kv.bias', 'pre_select.layers.1.image_condition.norm_kv.weight', 'pre_select.layers.1.image_condition.to_kv.weight', 'pre_select.layers.1.image_condition.to_out.weight', 'pre_select.layers.1.image_condition.to_q.weight', 'pre_select.layers.1.res_mapping.weight']\n",
      "You should probably TRAIN this model on a down-stream task to be able to use it for predictions and inference.\n"
     ]
    },
    {
     "name": "stdout",
     "output_type": "stream",
     "text": [
      "EARLY FUSION ON, USING MHA-B\n",
      "EARLY FUSION ON, USING MHA-B\n",
      "EARLY FUSION ON, USING MHA-B\n",
      "EARLY FUSION ON, USING MHA-B\n",
      "EARLY FUSION ON, USING MHA-B\n",
      "EARLY FUSION ON, USING MHA-B\n",
      "EARLY FUSION ON, USING MHA-B\n",
      "EARLY FUSION ON, USING MHA-B\n"
     ]
    },
    {
     "name": "stderr",
     "output_type": "stream",
     "text": [
      "Some layers unloaded with pre-trained weight: \n",
      "rpn.head.cls_logits.{bias, weight}\n"
     ]
    }
   ],
   "source": [
    "mq_glip_sam2_joint_model = MQGLIPSam2JointModel()"
   ]
  },
  {
   "cell_type": "code",
   "execution_count": null,
   "id": "3bd679fd-0849-4716-8149-6929ede88dc1",
   "metadata": {},
   "outputs": [],
   "source": [
    "import numpy as np"
   ]
  },
  {
   "cell_type": "markdown",
   "id": "9a83d692-6f49-4024-a951-2cb65a918d07",
   "metadata": {},
   "source": [
    "# data"
   ]
  },
  {
   "cell_type": "code",
   "execution_count": 4,
   "id": "93223da4-ccf1-4e90-a4d0-61c3c50fcc00",
   "metadata": {},
   "outputs": [],
   "source": [
    "video_dir = \"/home/jielei/sam2/notebooks/videos/bedroom\""
   ]
  },
  {
   "cell_type": "code",
   "execution_count": null,
   "id": "a05c8e5a-a097-490a-8d93-7d82fe70eb58",
   "metadata": {},
   "outputs": [],
   "source": [
    "box = np.array([300, 0, 500, 400], dtype=np.float32) # copied from sam2 notebook"
   ]
  },
  {
   "cell_type": "markdown",
   "id": "f59290b8-9a11-4605-8567-cfa5536ace86",
   "metadata": {},
   "source": [
    "# Run inference"
   ]
  },
  {
   "cell_type": "code",
   "execution_count": null,
   "id": "48b9ce96-242b-476b-ba37-1d248d3626db",
   "metadata": {},
   "outputs": [],
   "source": [
    "# step-1 run detection\n",
    "# step-2 run tracking"
   ]
  },
  {
   "cell_type": "code",
   "execution_count": null,
   "id": "50d204b5-9560-452c-9b38-31264126d941",
   "metadata": {},
   "outputs": [],
   "source": []
  },
  {
   "cell_type": "markdown",
   "id": "e804f5de-33fa-4174-b197-94c30787eeca",
   "metadata": {},
   "source": [
    "# Visualization"
   ]
  },
  {
   "cell_type": "code",
   "execution_count": null,
   "id": "65a0e72b-bba1-445c-b3f6-8dc5a78c66a6",
   "metadata": {},
   "outputs": [],
   "source": []
  },
  {
   "cell_type": "code",
   "execution_count": null,
   "id": "65e64a6a-6b66-49b6-aa5b-30cee9e56fee",
   "metadata": {},
   "outputs": [],
   "source": []
  },
  {
   "cell_type": "code",
   "execution_count": null,
   "id": "b320a46a-b6ff-4da0-8e5c-681d91371dec",
   "metadata": {},
   "outputs": [],
   "source": []
  },
  {
   "cell_type": "code",
   "execution_count": null,
   "id": "a8a72832-3c19-41a8-827f-3fded30c02e2",
   "metadata": {},
   "outputs": [],
   "source": []
  }
 ],
 "metadata": {
  "kernelspec": {
   "display_name": "Python 3 (ipykernel)",
   "language": "python",
   "name": "python3"
  },
  "language_info": {
   "codemirror_mode": {
    "name": "ipython",
    "version": 3
   },
   "file_extension": ".py",
   "mimetype": "text/x-python",
   "name": "python",
   "nbconvert_exporter": "python",
   "pygments_lexer": "ipython3",
   "version": "3.10.16"
  }
 },
 "nbformat": 4,
 "nbformat_minor": 5
}
