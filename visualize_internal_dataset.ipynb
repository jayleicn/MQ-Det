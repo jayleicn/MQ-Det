{
 "cells": [
  {
   "cell_type": "code",
   "execution_count": 1,
   "id": "e4721eda-5965-4349-99cf-17af3719c49f",
   "metadata": {},
   "outputs": [],
   "source": [
    "# copied from https://github.com/fairinternal/onevision/blob/main/projects/onevision/notebooks/sam3_video/visualize_data-sam3_vg_internal_dataset.ipynb\n",
    "import matplotlib.pyplot as plt\n",
    "import numpy as np\n",
    "import json\n",
    "from PIL import Image\n",
    "import pycocotools.mask as mask_util\n",
    "import cv2\n",
    "import glob\n",
    "from IPython.display import clear_output\n",
    "import random"
   ]
  },
  {
   "cell_type": "code",
   "execution_count": 2,
   "id": "8cf0bc3e-2a17-49b0-8f6c-a1bade5c90a8",
   "metadata": {},
   "outputs": [],
   "source": [
    "def show_box(boxes, colors):\n",
    "    for box, color in zip(boxes, colors):\n",
    "        x0, y0 = box[0], box[1]\n",
    "        w, h = box[2], box[3]\n",
    "        ax = plt.gca()\n",
    "        ax.add_patch(plt.Rectangle((x0, y0), w, h, edgecolor=color, facecolor=(0,0,0,0), lw=2))   \n",
    "\n",
    "def show_anns(masks, colors, borders=True) -> None:\n",
    "    \"\"\"\n",
    "    show the annotations\n",
    "    \"\"\"\n",
    "    # return if no masks\n",
    "    if len(masks) == 0:\n",
    "        return\n",
    "\n",
    "    # sort masks by size\n",
    "    sorted_annot_and_color = sorted(\n",
    "        zip(masks, colors), key=(lambda x: x[0].sum()), reverse=True\n",
    "    )\n",
    "    H, W = sorted_annot_and_color[0][0].shape[0], sorted_annot_and_color[0][0].shape[1]\n",
    "\n",
    "    canvas = np.ones((H, W, 4))\n",
    "    canvas[:, :, 3] = 0  # set the alpha channel\n",
    "    contour_thickness = max(1, int(min(5, 0.01 * min(H, W))))\n",
    "    for mask, color in sorted_annot_and_color:\n",
    "        canvas[mask] = np.concatenate([color, [0.55]])\n",
    "        if borders:\n",
    "            contours, _ = cv2.findContours(\n",
    "                np.array(mask, dtype=np.uint8), cv2.RETR_TREE, cv2.CHAIN_APPROX_NONE\n",
    "            )\n",
    "            cv2.drawContours(\n",
    "                canvas, contours, -1, (0.05, 0.05, 0.05, 1), thickness=contour_thickness\n",
    "            )\n",
    "\n",
    "    ax = plt.gca()\n",
    "    ax.imshow(canvas)"
   ]
  },
  {
   "cell_type": "code",
   "execution_count": 3,
   "id": "23ee1279-211d-482b-9719-54a312bdceb0",
   "metadata": {},
   "outputs": [],
   "source": [
    "video_dir = \"/fsx-onevision/shared/data/ta_data_center/definedAI_release/unified/train/JPEGImages_blurred_v0\"\n",
    "json_annotation = \"/fsx-onevision-auto-sync/ythu/sam3/video_grounding/release_20250131/ytvis/balanced/eval_set_v1_20250131_200_pairs_ytvis_format.json\""
   ]
  },
  {
   "cell_type": "code",
   "execution_count": 4,
   "id": "64d48817-48c6-48c0-88df-764306a1b9ba",
   "metadata": {},
   "outputs": [
    {
     "ename": "FileNotFoundError",
     "evalue": "[Errno 2] No such file or directory: '/fsx-onevision-auto-sync/ythu/sam3/video_grounding/release_20250131/ytvis/balanced/eval_set_v1_20250131_200_pairs_ytvis_format.json'",
     "output_type": "error",
     "traceback": [
      "\u001b[0;31m---------------------------------------------------------------------------\u001b[0m",
      "\u001b[0;31mFileNotFoundError\u001b[0m                         Traceback (most recent call last)",
      "Cell \u001b[0;32mIn[4], line 1\u001b[0m\n\u001b[0;32m----> 1\u001b[0m data \u001b[38;5;241m=\u001b[39m json\u001b[38;5;241m.\u001b[39mload(\u001b[38;5;28;43mopen\u001b[39;49m\u001b[43m(\u001b[49m\u001b[43mjson_annotation\u001b[49m\u001b[43m)\u001b[49m)\n",
      "File \u001b[0;32m~/miniconda/envs/ov_det/lib/python3.10/site-packages/IPython/core/interactiveshell.py:324\u001b[0m, in \u001b[0;36m_modified_open\u001b[0;34m(file, *args, **kwargs)\u001b[0m\n\u001b[1;32m    317\u001b[0m \u001b[38;5;28;01mif\u001b[39;00m file \u001b[38;5;129;01min\u001b[39;00m {\u001b[38;5;241m0\u001b[39m, \u001b[38;5;241m1\u001b[39m, \u001b[38;5;241m2\u001b[39m}:\n\u001b[1;32m    318\u001b[0m     \u001b[38;5;28;01mraise\u001b[39;00m \u001b[38;5;167;01mValueError\u001b[39;00m(\n\u001b[1;32m    319\u001b[0m         \u001b[38;5;124mf\u001b[39m\u001b[38;5;124m\"\u001b[39m\u001b[38;5;124mIPython won\u001b[39m\u001b[38;5;124m'\u001b[39m\u001b[38;5;124mt let you open fd=\u001b[39m\u001b[38;5;132;01m{\u001b[39;00mfile\u001b[38;5;132;01m}\u001b[39;00m\u001b[38;5;124m by default \u001b[39m\u001b[38;5;124m\"\u001b[39m\n\u001b[1;32m    320\u001b[0m         \u001b[38;5;124m\"\u001b[39m\u001b[38;5;124mas it is likely to crash IPython. If you know what you are doing, \u001b[39m\u001b[38;5;124m\"\u001b[39m\n\u001b[1;32m    321\u001b[0m         \u001b[38;5;124m\"\u001b[39m\u001b[38;5;124myou can use builtins\u001b[39m\u001b[38;5;124m'\u001b[39m\u001b[38;5;124m open.\u001b[39m\u001b[38;5;124m\"\u001b[39m\n\u001b[1;32m    322\u001b[0m     )\n\u001b[0;32m--> 324\u001b[0m \u001b[38;5;28;01mreturn\u001b[39;00m \u001b[43mio_open\u001b[49m\u001b[43m(\u001b[49m\u001b[43mfile\u001b[49m\u001b[43m,\u001b[49m\u001b[43m \u001b[49m\u001b[38;5;241;43m*\u001b[39;49m\u001b[43margs\u001b[49m\u001b[43m,\u001b[49m\u001b[43m \u001b[49m\u001b[38;5;241;43m*\u001b[39;49m\u001b[38;5;241;43m*\u001b[39;49m\u001b[43mkwargs\u001b[49m\u001b[43m)\u001b[49m\n",
      "\u001b[0;31mFileNotFoundError\u001b[0m: [Errno 2] No such file or directory: '/fsx-onevision-auto-sync/ythu/sam3/video_grounding/release_20250131/ytvis/balanced/eval_set_v1_20250131_200_pairs_ytvis_format.json'"
     ]
    }
   ],
   "source": [
    "data = json.load(open(json_annotation))"
   ]
  },
  {
   "cell_type": "code",
   "execution_count": null,
   "id": "70e44e46-bce7-46bf-b7dd-9aca4be98518",
   "metadata": {},
   "outputs": [],
   "source": [
    "pairs = [pair for pair in data['video_np_pairs'] if pair['num_tracklets_dedup'] > 5]"
   ]
  },
  {
   "cell_type": "code",
   "execution_count": null,
   "id": "926d5741-c608-416a-b334-204a65127591",
   "metadata": {},
   "outputs": [],
   "source": []
  }
 ],
 "metadata": {
  "kernelspec": {
   "display_name": "Python 3 (ipykernel)",
   "language": "python",
   "name": "python3"
  },
  "language_info": {
   "codemirror_mode": {
    "name": "ipython",
    "version": 3
   },
   "file_extension": ".py",
   "mimetype": "text/x-python",
   "name": "python",
   "nbconvert_exporter": "python",
   "pygments_lexer": "ipython3",
   "version": "3.10.16"
  }
 },
 "nbformat": 4,
 "nbformat_minor": 5
}
